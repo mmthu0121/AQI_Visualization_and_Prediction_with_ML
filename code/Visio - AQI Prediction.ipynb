{
 "cells": [
  {
   "cell_type": "markdown",
   "metadata": {
    "id": "eN1LLswpXVL8"
   },
   "source": [
    "# AQI Prediction Model by Team Visio"
   ]
  },
  {
   "cell_type": "markdown",
   "metadata": {
    "id": "VjNHfIsZXVL8"
   },
   "source": [
    "## 1. Preparation"
   ]
  },
  {
   "cell_type": "markdown",
   "metadata": {
    "id": "5K46FeA_XVL8"
   },
   "source": [
    "## 1.1 Library "
   ]
  },
  {
   "cell_type": "code",
   "execution_count": null,
   "metadata": {
    "id": "ZojOHiO6XVL8"
   },
   "outputs": [],
   "source": [
    "import pandas as pd\n",
    "import matplotlib.pyplot as plt\n",
    "import numpy as np\n",
    "import seaborn as sns\n",
    "%matplotlib inline\n",
    "\n",
    "#model\n",
    "from sklearn.ensemble import RandomForestClassifier"
   ]
  },
  {
   "cell_type": "markdown",
   "metadata": {
    "id": "78I304FuXVL8"
   },
   "source": [
    "## 1.2 Functions"
   ]
  },
  {
   "cell_type": "code",
   "execution_count": null,
   "metadata": {
    "id": "Udu0v7TeXVL8"
   },
   "outputs": [],
   "source": [
    "def precision(label, confusion_matrix):\n",
    "    col = confusion_matrix[:, label]\n",
    "    return confusion_matrix[label, label] / col.sum()\n",
    "    \n",
    "def recall(label, confusion_matrix):\n",
    "    row = confusion_matrix[label, :]\n",
    "    return confusion_matrix[label, label] / row.sum()\n",
    "\n",
    "def accuracy(confusion_matrix):\n",
    "    diagonal_sum = confusion_matrix.trace()\n",
    "    sum_of_all_elements = confusion_matrix.sum()\n",
    "    return diagonal_sum / sum_of_all_elements \n",
    "\n",
    "def output(test_model):\n",
    "    if test_model == 0:\n",
    "        print('AQI Result is Good, between 0 & 50')\n",
    "    elif test_model == 1:\n",
    "        print('AQI Result is Moderate, between 51 & 100')\n",
    "    elif test_model == 2:\n",
    "        print('AQI Result is Unhealthy for sensitive group, between 101 & 150')\n",
    "    elif test_model == 3:\n",
    "        print('AQI Result is Unhealthy, between 151 & 200')\n",
    "    elif test_model == 4:\n",
    "        print('AQI Result is Very Unhealthy, between 201 & 300')\n",
    "    else:\n",
    "        print('AQI Result is Hazardous, between 301 & 500')\n",
    "    return test_model"
   ]
  },
  {
   "cell_type": "markdown",
   "metadata": {
    "id": "nxpfTOiNXVL8"
   },
   "source": [
    "## 2. Data"
   ]
  },
  {
   "cell_type": "markdown",
   "metadata": {
    "id": "DsQC-zeXXVL8"
   },
   "source": [
    "### 2.1 Import Data"
   ]
  },
  {
   "cell_type": "code",
   "execution_count": null,
   "metadata": {
    "id": "Bj2aYbySXVL8"
   },
   "outputs": [],
   "source": [
    "file = r'Data_For_ML.xlsx'\n",
    "data = pd.read_excel(file)\n",
    "data = pd.DataFrame.from_records(data)"
   ]
  },
  {
   "cell_type": "markdown",
   "metadata": {
    "id": "DYjSOottXVL8"
   },
   "source": [
    "#### 2.1.1 Check the data"
   ]
  },
  {
   "cell_type": "code",
   "execution_count": null,
   "metadata": {
    "id": "ES3yCXcJXVL8"
   },
   "outputs": [],
   "source": [
    "print(data.columns)"
   ]
  },
  {
   "cell_type": "code",
   "execution_count": null,
   "metadata": {
    "id": "PQChHAYlXVL8"
   },
   "outputs": [],
   "source": [
    "data.describe()"
   ]
  },
  {
   "cell_type": "markdown",
   "metadata": {
    "id": "dRXu7b0sXVL8"
   },
   "source": [
    "### 2.2 Prepare Datasets"
   ]
  },
  {
   "cell_type": "code",
   "execution_count": null,
   "metadata": {
    "id": "MFpp8QKKXVL8"
   },
   "outputs": [],
   "source": [
    "train = data.sample(frac = 0.90)\n",
    "test = data.drop(train.index) "
   ]
  },
  {
   "cell_type": "markdown",
   "metadata": {
    "id": "rUjq3fxGXVL8"
   },
   "source": [
    "#### 2.2.1 Training Dataset"
   ]
  },
  {
   "cell_type": "code",
   "execution_count": null,
   "metadata": {
    "id": "qlQAsdWgXVL8"
   },
   "outputs": [],
   "source": [
    "# Without COVID Situation\n",
    "x_train = train.drop(['Created At', 'MM Date_original', 'MM Time', 'MM Date', 'Year', 'Date', 'COVID Situation',\n",
    "       'PM1.0_CF1_ug/m3', 'PM2.5_CF1_ug/m3', 'PM10.0_CF1_ug/m3','UptimeMinutes', 'RSSI_dbm', 'Temperature_F',\n",
    "       'PM2.5_ATM_ug/m3', 'PM2.5_AQI Hourly Average', 'Sensor', 'Pcode', 'Air Quality', 'Air Quality No'], axis=1)\n",
    "\n",
    "# With COVID Situation\n",
    "xC_train = train.drop(['Created At', 'MM Date_original', 'MM Time', 'MM Date', 'Year', 'Date',\n",
    "       'PM1.0_CF1_ug/m3', 'PM2.5_CF1_ug/m3', 'PM10.0_CF1_ug/m3','UptimeMinutes', 'RSSI_dbm', 'Temperature_F',\n",
    "       'PM2.5_ATM_ug/m3', 'PM2.5_AQI Hourly Average', 'Sensor', 'Pcode', 'Air Quality', 'Air Quality No'], axis=1)\n",
    "\n",
    "# Output\n",
    "y_train = train.drop(['Created At', 'MM Date_original', 'MM Time', 'MM Date',\n",
    "       'PM1.0_CF1_ug/m3', 'PM2.5_CF1_ug/m3', 'PM10.0_CF1_ug/m3',\n",
    "       'UptimeMinutes', 'RSSI_dbm', 'Temperature_F', 'Humidity_%',\n",
    "       'PM2.5_ATM_ug/m3', 'Year', 'Month', 'Hour', 'PM2.5_AQI Hourly Average',\n",
    "       'Date', 'COVID Situation', 'Sensor', 'Pcode', 'Air Quality'], axis=1)"
   ]
  },
  {
   "cell_type": "markdown",
   "metadata": {
    "id": "c7-JtxUOXVL8"
   },
   "source": [
    "#### 2.2.2 Testing Dataset"
   ]
  },
  {
   "cell_type": "code",
   "execution_count": null,
   "metadata": {
    "id": "nYYVV-GPXVL8"
   },
   "outputs": [],
   "source": [
    "# Without COVID Situation\n",
    "x_test = test.drop(['Created At', 'MM Date_original', 'MM Time', 'MM Date', 'Year', 'Date', 'COVID Situation',\n",
    "       'PM1.0_CF1_ug/m3', 'PM2.5_CF1_ug/m3', 'PM10.0_CF1_ug/m3','UptimeMinutes', 'RSSI_dbm', 'Temperature_F',\n",
    "       'PM2.5_ATM_ug/m3', 'PM2.5_AQI Hourly Average', 'Sensor', 'Pcode', 'Air Quality', 'Air Quality No'], axis=1)\n",
    "\n",
    "# With COVID Situation\n",
    "xC_test = test.drop(['Created At', 'MM Date_original', 'MM Time', 'MM Date', 'Year', 'Date',\n",
    "       'PM1.0_CF1_ug/m3', 'PM2.5_CF1_ug/m3', 'PM10.0_CF1_ug/m3','UptimeMinutes', 'RSSI_dbm', 'Temperature_F',\n",
    "       'PM2.5_ATM_ug/m3', 'PM2.5_AQI Hourly Average', 'Sensor', 'Pcode', 'Air Quality', 'Air Quality No'], axis=1)\n",
    "\n",
    "# Output\n",
    "y_test = test.drop(['Created At', 'MM Date_original', 'MM Time', 'MM Date',\n",
    "       'PM1.0_CF1_ug/m3', 'PM2.5_CF1_ug/m3', 'PM10.0_CF1_ug/m3',\n",
    "       'UptimeMinutes', 'RSSI_dbm', 'Temperature_F', 'Humidity_%',\n",
    "       'PM2.5_ATM_ug/m3', 'Year', 'Month', 'Hour', 'PM2.5_AQI Hourly Average', \n",
    "       'Date', 'COVID Situation', 'Sensor', 'Pcode', 'Air Quality'], axis=1)"
   ]
  },
  {
   "cell_type": "markdown",
   "metadata": {
    "id": "EQhr652TXVL8"
   },
   "source": [
    "#### 2.2.3 Check the data"
   ]
  },
  {
   "cell_type": "code",
   "execution_count": null,
   "metadata": {
    "id": "E-YA9fSZXVL8"
   },
   "outputs": [],
   "source": [
    "x_train.head()\n",
    "# x_test.head()"
   ]
  },
  {
   "cell_type": "code",
   "execution_count": null,
   "metadata": {
    "id": "zS1iZTbvXVL8"
   },
   "outputs": [],
   "source": [
    "xC_train.head()\n",
    "# xC_test.head()"
   ]
  },
  {
   "cell_type": "code",
   "execution_count": null,
   "metadata": {
    "id": "39DPEH-IXVL8"
   },
   "outputs": [],
   "source": [
    "y_train.head()"
   ]
  },
  {
   "cell_type": "markdown",
   "metadata": {
    "id": "CPFYJ5UtXVL8"
   },
   "source": [
    "## 3. Model"
   ]
  },
  {
   "cell_type": "markdown",
   "metadata": {
    "id": "1L22JQMBXVL8"
   },
   "source": [
    "### 3.1 Choosing Model"
   ]
  },
  {
   "cell_type": "code",
   "execution_count": null,
   "metadata": {
    "id": "ZMgvftc7XVL9"
   },
   "outputs": [],
   "source": [
    "model = RandomForestClassifier() # Without COVID Situation\n",
    "model_C = RandomForestClassifier() # With COVID Situation\n",
    "\n",
    "#model = DecisionTreeClassifier()\n",
    "#model_C = DecisionTreeClassifier()"
   ]
  },
  {
   "cell_type": "markdown",
   "metadata": {
    "id": "_wpbq87cXVL9"
   },
   "source": [
    "#### 3.1.1 Check the model"
   ]
  },
  {
   "cell_type": "code",
   "execution_count": null,
   "metadata": {
    "id": "25mJFoVdXVL9"
   },
   "outputs": [],
   "source": [
    "print(model)"
   ]
  },
  {
   "cell_type": "code",
   "execution_count": null,
   "metadata": {
    "id": "7FIupeerXVL9"
   },
   "outputs": [],
   "source": [
    "print(model_C)"
   ]
  },
  {
   "cell_type": "markdown",
   "metadata": {
    "id": "QeZ-fBRQXVL9"
   },
   "source": [
    "### 3.2 Training Model"
   ]
  },
  {
   "cell_type": "code",
   "execution_count": null,
   "metadata": {
    "id": "hETt35G4XVL9"
   },
   "outputs": [],
   "source": [
    "model.fit(x_train, np.ravel(y_train,order='C')); # Without COVID Situation\n",
    "model_C.fit(xC_train, np.ravel(y_train,order='C')); # With COVID Situation"
   ]
  },
  {
   "cell_type": "markdown",
   "metadata": {
    "id": "bETjitZ7XVL9"
   },
   "source": [
    "### 3.2.1 Without COVID Situation"
   ]
  },
  {
   "cell_type": "code",
   "execution_count": null,
   "metadata": {
    "id": "MDPRnsnzXVL9"
   },
   "outputs": [],
   "source": [
    "print(model)"
   ]
  },
  {
   "cell_type": "markdown",
   "metadata": {
    "id": "wrHtvf_AXVL9"
   },
   "source": [
    "#### 3.2.1.1 Predict the result"
   ]
  },
  {
   "cell_type": "code",
   "execution_count": null,
   "metadata": {
    "id": "w6FCfEPsXVL9"
   },
   "outputs": [],
   "source": [
    "y = model.predict(x_test)\n",
    "y_t = model.predict(x_train)"
   ]
  },
  {
   "cell_type": "markdown",
   "metadata": {
    "id": "k4SRK5OaXVL9"
   },
   "source": [
    "#### 3.2.1.2 Confusion Matrix"
   ]
  },
  {
   "cell_type": "code",
   "execution_count": null,
   "metadata": {
    "id": "RhmqCqwPXVL9"
   },
   "outputs": [],
   "source": [
    "from sklearn.metrics import confusion_matrix\n",
    "mat = confusion_matrix(y_test, y)\n",
    "sns.heatmap(mat.T, square=True, annot=True, fmt='d', cbar=False)\n",
    "plt.xlabel('true label')\n",
    "plt.ylabel('predicted label');"
   ]
  },
  {
   "cell_type": "markdown",
   "metadata": {
    "id": "skimx5b-XVL9"
   },
   "source": [
    "#### 3.2.1.3 Accuracy"
   ]
  },
  {
   "cell_type": "code",
   "execution_count": null,
   "metadata": {
    "id": "owuexm73XVL9"
   },
   "outputs": [],
   "source": [
    "accuracy(mat)"
   ]
  },
  {
   "cell_type": "code",
   "execution_count": null,
   "metadata": {
    "id": "e2YODtxnXVL9"
   },
   "outputs": [],
   "source": [
    "# for i in range(5):\n",
    "#     print(precision(i,mat))"
   ]
  },
  {
   "cell_type": "markdown",
   "metadata": {
    "id": "iuXFxsm1XVL9"
   },
   "source": [
    "### 3.2.2 With COVID Situation"
   ]
  },
  {
   "cell_type": "code",
   "execution_count": null,
   "metadata": {
    "id": "Uep9ZYaHXVL9"
   },
   "outputs": [],
   "source": [
    "print(model)"
   ]
  },
  {
   "cell_type": "markdown",
   "metadata": {
    "id": "VuuQ3TuyXVL9"
   },
   "source": [
    "#### 3.2.2.1 Predict the result"
   ]
  },
  {
   "cell_type": "code",
   "execution_count": null,
   "metadata": {
    "id": "4KTzZAQqXVL9"
   },
   "outputs": [],
   "source": [
    "yC = model_C.predict(xC_test)\n",
    "yC_t = model_C.predict(xC_train)"
   ]
  },
  {
   "cell_type": "markdown",
   "metadata": {
    "id": "Dza41-MnXVL9"
   },
   "source": [
    "#### 3.2.1.2 Confusion Matrix"
   ]
  },
  {
   "cell_type": "code",
   "execution_count": null,
   "metadata": {
    "id": "0qmxShpaXVL9"
   },
   "outputs": [],
   "source": [
    "from sklearn.metrics import confusion_matrix\n",
    "matC = confusion_matrix(y_test, yC)\n",
    "sns.heatmap(matC.T, square=True, annot=True, fmt='d', cbar=False)\n",
    "plt.xlabel('true label')\n",
    "plt.ylabel('predicted label');"
   ]
  },
  {
   "cell_type": "markdown",
   "metadata": {
    "id": "5t-EX36HXVL9"
   },
   "source": [
    "#### 3.2.2.3 Accuracy"
   ]
  },
  {
   "cell_type": "code",
   "execution_count": null,
   "metadata": {
    "id": "INY9BbqrXVL9"
   },
   "outputs": [],
   "source": [
    "accuracy(matC)"
   ]
  },
  {
   "cell_type": "code",
   "execution_count": null,
   "metadata": {
    "id": "cVZa6SOJXVL9"
   },
   "outputs": [],
   "source": [
    "# for i in range(5):\n",
    "#     print(precision(i,matC))"
   ]
  },
  {
   "cell_type": "markdown",
   "metadata": {
    "id": "akGh4TXfXVL9"
   },
   "source": [
    "### 3.3 Testing Model"
   ]
  },
  {
   "cell_type": "code",
   "execution_count": null,
   "metadata": {
    "id": "nawUMGKjXVL9"
   },
   "outputs": [],
   "source": [
    "test_data = [[79, 11, 6]]  #[Humidity,Month,Hour]\n",
    "test_data_C = [[79, 11, 6, 5]]  #[Humidity,Month,Hour,COVID Situation]"
   ]
  },
  {
   "cell_type": "markdown",
   "metadata": {
    "id": "XkgjCrjkXVL9"
   },
   "source": [
    "#### 3.3.1 Without Covid Situation"
   ]
  },
  {
   "cell_type": "code",
   "execution_count": null,
   "metadata": {
    "id": "6o8c8Bv5XVL9"
   },
   "outputs": [],
   "source": [
    "test_model = model.predict(test_data)"
   ]
  },
  {
   "cell_type": "code",
   "execution_count": null,
   "metadata": {
    "id": "aoWkjChOXVL9"
   },
   "outputs": [],
   "source": [
    "output(test_model)"
   ]
  },
  {
   "cell_type": "markdown",
   "metadata": {
    "id": "KcoflqOZXVL9"
   },
   "source": [
    "#### 3.3.2 With Covid Situation"
   ]
  },
  {
   "cell_type": "code",
   "execution_count": null,
   "metadata": {
    "id": "1Pxvp5GlXVL9"
   },
   "outputs": [],
   "source": [
    "test_model_C = model_C.predict(test_data_C)"
   ]
  },
  {
   "cell_type": "code",
   "execution_count": null,
   "metadata": {
    "id": "h5kpgdb6XVL9"
   },
   "outputs": [],
   "source": [
    "output(test_model_C)"
   ]
  },
  {
   "cell_type": "markdown",
   "metadata": {
    "id": "2EuD17qjXtz2"
   },
   "source": [
    "## 4. Prediction\n"
   ]
  },
  {
   "cell_type": "code",
   "execution_count": null,
   "metadata": {
    "id": "Mx3jtRjfX2m4"
   },
   "outputs": [],
   "source": [
    "AQI_status = ['Air Quality is Good','Air Quality is Moderate','Air Quality is Unhealthy for sensitive group','Air Quality is Unhealthy','Air Quality is Very Unhealthy','Air Quality is Hazardous']\n",
    "a = 0\n",
    "df = pd.DataFrame(columns = ['Hour', 'Humidity', 'AQI Status'])"
   ]
  },
  {
   "cell_type": "code",
   "execution_count": null,
   "metadata": {},
   "outputs": [],
   "source": [
    "samples = np.zeros((24, 100))\n",
    "for i in range(24):\n",
    "  for j in range(100):\n",
    "   sampleX = [[j, 12, i, 4]]\n",
    "   p = model_C.predict(sampleX)\n",
    "   p = p.item()\n",
    "   samples[i,j] = p\n",
    "   print(AQI_status[p])\n",
    "   df = df.append({'Hour': [i], 'Humidity': [j], 'AQI Status': AQI_status[p]}, ignore_index = True)"
   ]
  },
  {
   "cell_type": "code",
   "execution_count": null,
   "metadata": {},
   "outputs": [],
   "source": [
    "df.to_csv('VISIO_01.csv', index=False)"
   ]
  }
 ],
 "metadata": {
  "colab": {
   "name": "Visio - AQI Prediction.ipynb",
   "provenance": []
  },
  "kernelspec": {
   "display_name": "Python 3",
   "language": "python",
   "name": "python3"
  },
  "language_info": {
   "codemirror_mode": {
    "name": "ipython",
    "version": 3
   },
   "file_extension": ".py",
   "mimetype": "text/x-python",
   "name": "python",
   "nbconvert_exporter": "python",
   "pygments_lexer": "ipython3",
   "version": "3.7.1"
  }
 },
 "nbformat": 4,
 "nbformat_minor": 1
}
